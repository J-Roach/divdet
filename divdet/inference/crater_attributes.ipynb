{
 "cells": [
  {
   "cell_type": "markdown",
   "metadata": {},
   "source": [
    "# Crater attributes\n",
    "Prototype analysis for a single detected crater. Extract crater attributes like best-fitting ellipse, eccentricity, gradient, etc."
   ]
  },
  {
   "cell_type": "code",
   "execution_count": 1,
   "metadata": {},
   "outputs": [],
   "source": [
    "import warnings\n",
    "from pathlib import Path\n",
    "\n",
    "import numpy as np\n",
    "import rasterio\n",
    "from skimage.measure import EllipseModel, regionprops, label, find_contours, approximate_polygon\n",
    "\n",
    "# Get path to test images\n",
    "images_dir = Path.cwd().parent.parent / 'test/fixtures'\n",
    "\n",
    "# Construct filenames to grayscale image and individual crater annotations\n",
    "img_ctx_fpath = images_dir / 'img1.png'\n",
    "img_annot_fpaths = [images_dir / f'img1_annot{num}.png' for num in range(3)]\n",
    "grad_image_fpath = images_dir / 'diagonal_gradient.png'"
   ]
  },
  {
   "cell_type": "code",
   "execution_count": 2,
   "metadata": {},
   "outputs": [
    {
     "name": "stderr",
     "output_type": "stream",
     "text": [
      "/Users/wronk/.virtualenvs/mars/lib/python3.7/site-packages/rasterio/__init__.py:219: NotGeoreferencedWarning: Dataset has no geotransform set. The identity matrix may be returned.\n",
      "  s = DatasetReader(path, driver=driver, sharing=sharing, **kwargs)\n"
     ]
    }
   ],
   "source": [
    "orig_image = rasterio.open(img_ctx_fpath).read().squeeze()\n",
    "annot_images = [rasterio.open(img_annot_fpath).read().squeeze() \n",
    "                for img_annot_fpath in img_annot_fpaths]\n",
    "grad_image = rasterio.open(img_ctx_fpath).read().squeeze()\n",
    "\n",
    "label_objects = [label(annot_image) for annot_image in annot_images]\n",
    "props = [regionprops(label_object) for label_object in label_objects]"
   ]
  },
  {
   "cell_type": "code",
   "execution_count": 15,
   "metadata": {},
   "outputs": [],
   "source": [
    "def calculate_crater_props(binary_label_img):\n",
    "    \n",
    "    if binary_label_img.ndim != 2:\n",
    "        raise RuntimeError('Image must be 2d for calculating region properties.')\n",
    "    \n",
    "    props = regionprops(binary_label_img)\n",
    "\n",
    "    print(f'Area = {props[0][\"area\"]}')\n",
    "    print(f'Major Axis = {props[0][\"major_axis_length\"]}')\n",
    "    print(f'Minor Axis = {props[0][\"minor_axis_length\"]}')\n",
    "    print(f'Eccentricity = {props[0][\"eccentricity\"]}')\n",
    "    print(f'Orientation = {props[0][\"orientation\"]}')\n",
    "\n",
    "    # Spatial moments?\n",
    "    # Euler number?\n",
    "    \n",
    "    # TODO: If we use EllipseModel, need to grab only the edge pixels (and not use filled blob)\n",
    "    coords = np.stack(np.nonzero(binary_label_img), axis=1)\n",
    "    em = EllipseModel()\n",
    "    em.estimate(coords)\n",
    "    print(f'Ellipse model params: {em.params}')\n",
    "    \n",
    "    \n",
    "def calculate_grad(image, good_inds):\n",
    "    \"\"\"Calculate the X and Y gradient for an image using numpy's gradient.\n",
    "    \n",
    "    Parameters\n",
    "    ==========\n",
    "    image: array-like\n",
    "        Image pixels.\n",
    "    good_inds: array-like\n",
    "        Bool mask for pixels to include when returninng mean gradient. \n",
    "        For example, pass the binary crater mask to only calculate the \n",
    "        gradient for pixels within the crater.\n",
    "    \n",
    "    Returns\n",
    "    =======\n",
    "    mean_h: float\n",
    "        Mean horizontal gradient of pixels specified by `good_inds`. Positive\n",
    "        is to the right.\n",
    "    mean_v: float\n",
    "        Mean vertical gradient of pixels specified by `good_inds`. Positive is\n",
    "        downward.\n",
    "    \"\"\"\n",
    "    # TODO: could improve function to take a list of good_inds and avoid\n",
    "    # recomputing gradient repeatedly\n",
    "    \n",
    "    if good_inds.dtype != bool:\n",
    "        raise ValueError('`good_inds` must be of type bool')\n",
    "        \n",
    "    np_mask = np.invert(good_inds) # Pixels we want to exclude should be True\n",
    "    \n",
    "    mean_h = np.ma.masked_array(np.gradient(image, axis=0),\n",
    "                                mask=np_mask).mean()\n",
    "    mean_v = np.ma.masked_array(np.gradient(image, axis=1),\n",
    "                                mask=np_mask).mean()\n",
    "\n",
    "    print(f'Grad horizontal:{mean_h}, Grad vertical:{mean_v}')\n",
    "    return mean_h, mean_v\n",
    "\n",
    "\n",
    "def calculate_wkt_border(binary_label_img, contour_tol=2.5, pad=1):\n",
    "    \"\"\"Pull out the polygon representation of the crater border.\"\"\"\n",
    "    \n",
    "    # TODO: apply and remove padding properly; add test\n",
    "    print(f'orig shape: {binary_label_img.shape}')\n",
    "    padded_image = np.pad(binary_label_img, pad_width=1, mode='constant')\n",
    "    print(f'padded shape: {padded_image.shape}')\n",
    "\n",
    "    contours = find_contours(padded_image, 0.5)\n",
    "    if len(contours) > 1:\n",
    "        warnings.warn(f'Found {len(contours)} contour objects. Expected 1.')\n",
    "    \n",
    "    coords = approximate_polygon(contours[0], tolerance=contour_tol)\n",
    "    closed = coords[0] == coords[-1]\n",
    "    \n",
    "    return coords, closed\n",
    "    "
   ]
  },
  {
   "cell_type": "code",
   "execution_count": 16,
   "metadata": {},
   "outputs": [
    {
     "name": "stdout",
     "output_type": "stream",
     "text": [
      "\n",
      "Object 0\n",
      "Area = 365\n",
      "Major Axis = 21.55794993684353\n",
      "Minor Axis = 21.55794993684353\n",
      "Eccentricity = 0.0\n",
      "Orientation = 0.7853981633974483\n",
      "Ellipse model params: [236.99999999996908, 44.00000000000697, 7.621885183733106, 7.621887402948319, 1.6470532156733175]\n",
      "Grad horizontal:0.8780821917808219, Grad vertical:-0.33013698630136984\n",
      "\n",
      "Object 1\n",
      "Area = 8166\n",
      "Major Axis = 143.50196551711082\n",
      "Minor Axis = 76.42045121336285\n",
      "Eccentricity = 0.8464052120638251\n",
      "Orientation = 0.0\n",
      "Ellipse model params: [174.4999999980865, 225.55693613864304, 27.124554096602242, 50.587078011778424, 1.5707963269431249]\n",
      "Grad horizontal:0.37447954935096744, Grad vertical:0.6970977222630419\n",
      "\n",
      "Object 2\n",
      "Area = 1129\n",
      "Major Axis = 50.04730585494444\n",
      "Minor Axis = 28.76355266027332\n",
      "Eccentricity = 0.818344999167847\n",
      "Orientation = -0.514135377558573\n",
      "Ellipse model params: [47.15534054087704, 21.710982033865484, 10.175457518522418, 17.68397594416444, 1.0568183030693015]\n",
      "Grad horizontal:-0.9694419840566874, Grad vertical:-1.8556244464127547\n"
     ]
    }
   ],
   "source": [
    "# Get some values from first crater\n",
    "for li, binary_label_img in enumerate(label_objects):\n",
    "    print (f'\\nObject {li}')\n",
    "    calculate_crater_props(binary_label_img)\n",
    "    calculate_grad(orig_image, binary_label_img.astype(np.bool))"
   ]
  },
  {
   "cell_type": "code",
   "execution_count": 19,
   "metadata": {},
   "outputs": [
    {
     "name": "stdout",
     "output_type": "stream",
     "text": [
      "orig shape: (256, 256)\n",
      "padded shape: (258, 258)\n",
      "orig shape: (256, 256)\n",
      "padded shape: (258, 258)\n",
      "[[246.99803922 256.        ]\n",
      " [243.99803922 232.        ]\n",
      " [229.99803922 208.        ]\n",
      " [210.         192.00196078]\n",
      " [186.         184.00196078]\n",
      " [160.         185.00196078]\n",
      " [133.         197.00196078]\n",
      " [113.00196078 219.        ]\n",
      " [104.00196078 244.        ]\n",
      " [105.         256.99803922]\n",
      " [246.99803922 256.        ]]\n",
      "orig shape: (256, 256)\n",
      "padded shape: (258, 258)\n"
     ]
    },
    {
     "data": {
      "image/png": "[encoded data removed]",
      "text/plain": [
       "<Figure size 1080x504 with 3 Axes>"
      ]
     },
     "metadata": {
      "needs_background": "light"
     },
     "output_type": "display_data"
    }
   ],
   "source": [
    "import matplotlib.pyplot as plt\n",
    "\n",
    "fig, axes = plt.subplots(ncols=3, figsize=(15, 7))\n",
    "plt.gray()\n",
    "\n",
    "for ii, ax in enumerate(axes):\n",
    "    ax.imshow(annot_images[ii])\n",
    "    contour, closed = calculate_wkt_border(annot_images[ii])\n",
    "    \n",
    "    ax.plot(contour[:, 1], contour[:, 0], '-r', linewidth=3)\n",
    "    if ii == 1:\n",
    "        print(contour)\n"
   ]
  },
  {
   "cell_type": "code",
   "execution_count": null,
   "metadata": {},
   "outputs": [],
   "source": []
  }
 ],
 "metadata": {
  "kernelspec": {
   "display_name": "Python 3",
   "language": "python",
   "name": "python3"
  },
  "language_info": {
   "codemirror_mode": {
    "name": "ipython",
    "version": 3
   },
   "file_extension": ".py",
   "mimetype": "text/x-python",
   "name": "python",
   "nbconvert_exporter": "python",
   "pygments_lexer": "ipython3",
   "version": "3.7.3"
  }
 },
 "nbformat": 4,
 "nbformat_minor": 4
}
